{
 "cells": [
  {
   "cell_type": "markdown",
   "metadata": {},
   "source": [
    "# gapminder-20180301\n",
    "\n",
    "- preliminary analysis of the data using `purr`, `broom` etc. \n",
    "- create subsets of data\n",
    "- create repo for preliminary data\n",
    "- should we slice by continent or slice by year? maybe lets do both  \n",
    "   - filter\n",
    "   - save in arrow format\n",
    "\n",
    "tools:  \n",
    "1. tidyverse and the dslabs gapminder dataset"
   ]
  },
  {
   "cell_type": "markdown",
   "metadata": {},
   "source": [
    "analysis example credits to Hadley Wickham\n",
    "- video: https://www.youtube.com/watch?v=rz3_FDVt9eg&index=2&list=PLNtpLD4WiWbw9Cgcg6IU75u-44TrrN3A4\n",
    "- speakder deck: https://speakerdeck.com/hadley/managing-many-models\n",
    "- github gist:https://gist.github.com/hadley/056cf4074acedc164161d6abb751cb35\n"
   ]
  },
  {
   "cell_type": "code",
   "execution_count": null,
   "metadata": {},
   "outputs": [],
   "source": [
    "library(tidyverse)\n",
    "library(gapminder)"
   ]
  },
  {
   "cell_type": "code",
   "execution_count": null,
   "metadata": {},
   "outputs": [],
   "source": [
    "head(gapminder)"
   ]
  },
  {
   "cell_type": "code",
   "execution_count": null,
   "metadata": {
    "collapsed": true
   },
   "outputs": [],
   "source": [
    "gapminder <- gapminder %>% mutate(year1960 = year - 1960)"
   ]
  },
  {
   "cell_type": "markdown",
   "metadata": {},
   "source": [
    "# purr and list columns"
   ]
  },
  {
   "cell_type": "code",
   "execution_count": null,
   "metadata": {},
   "outputs": [],
   "source": [
    "# group data by continent then country\n",
    "by_country <- gapminder %>%\n",
    "    group_by(continent, country) %>%\n",
    "    nest()"
   ]
  },
  {
   "cell_type": "code",
   "execution_count": null,
   "metadata": {},
   "outputs": [],
   "source": [
    "str(by_country)"
   ]
  },
  {
   "cell_type": "code",
   "execution_count": null,
   "metadata": {},
   "outputs": [],
   "source": [
    "by_country$data[[1]][1:5,]"
   ]
  },
  {
   "cell_type": "code",
   "execution_count": null,
   "metadata": {
    "collapsed": true
   },
   "outputs": [],
   "source": [
    "country_model <- function(df) {\n",
    "    lm(lifeExp ~ year1960, data = df)\n",
    "}"
   ]
  },
  {
   "cell_type": "code",
   "execution_count": null,
   "metadata": {},
   "outputs": [],
   "source": [
    "models <- by_country %>%\n",
    "    mutate(\n",
    "        mod = map(data, country_model))"
   ]
  },
  {
   "cell_type": "code",
   "execution_count": null,
   "metadata": {},
   "outputs": [],
   "source": [
    "models$mod[[1]]"
   ]
  },
  {
   "cell_type": "code",
   "execution_count": null,
   "metadata": {},
   "outputs": [],
   "source": [
    "str(models$data)"
   ]
  },
  {
   "cell_type": "code",
   "execution_count": null,
   "metadata": {},
   "outputs": [],
   "source": [
    "models %>%\n",
    "  ggplot(aes(rsq, reorder(country, rsq))) +\n",
    "    geom_point(aes(colour = continent))"
   ]
  },
  {
   "cell_type": "markdown",
   "metadata": {},
   "source": [
    "# broom"
   ]
  },
  {
   "cell_type": "code",
   "execution_count": null,
   "metadata": {},
   "outputs": [],
   "source": [
    "models <- models %>% \n",
    "    filter(continent == \"Africa\")"
   ]
  },
  {
   "cell_type": "code",
   "execution_count": null,
   "metadata": {},
   "outputs": [],
   "source": [
    "models <- models %>%\n",
    "  mutate(\n",
    "    glance  = models %>% map(broom::glance),\n",
    "    rsq     = glance %>% map_dbl(\"r.squared\"),\n",
    "    tidy    = models %>% map(broom::tidy),\n",
    "    augment = models %>% map(broom::augment)\n",
    "  )\n",
    "models"
   ]
  },
  {
   "cell_type": "code",
   "execution_count": null,
   "metadata": {},
   "outputs": [],
   "source": [
    "models %>% arrange(desc(rsq))\n",
    "models %>% filter(continent == \"Africa\")"
   ]
  },
  {
   "cell_type": "code",
   "execution_count": null,
   "metadata": {},
   "outputs": [],
   "source": [
    "models %>%\n",
    "  ggplot(aes(rsq, reorder(country, rsq))) +\n",
    "    geom_point(aes(colour = continent))"
   ]
  },
  {
   "cell_type": "code",
   "execution_count": null,
   "metadata": {},
   "outputs": [],
   "source": [
    "models\n",
    "unnest(models, data) # back to where we started\n",
    "unnest(models, glance, .drop = TRUE) %>% View()\n",
    "unnest(models, tidy)"
   ]
  },
  {
   "cell_type": "code",
   "execution_count": null,
   "metadata": {
    "collapsed": true
   },
   "outputs": [],
   "source": [
    "models %>%\n",
    "  unnest(tidy) %>%\n",
    "  select(continent, country, term, estimate, rsq) %>%\n",
    "  spread(term, estimate) %>%\n",
    "  ggplot(aes(`(Intercept)`, year1950)) +\n",
    "    geom_point(aes(colour = continent, size = rsq)) +\n",
    "    geom_smooth(se = FALSE) +\n",
    "    xlab(\"Life Expectancy (1950)\") +\n",
    "    ylab(\"Yearly improvement\") +\n",
    "    scale_size_area()"
   ]
  },
  {
   "cell_type": "code",
   "execution_count": null,
   "metadata": {
    "collapsed": true
   },
   "outputs": [],
   "source": [
    "models %>%\n",
    "  unnest(augment) %>%\n",
    "  ggplot(aes(year1950, .resid)) +\n",
    "    geom_line(aes(group = country), alpha = 1/3) +\n",
    "    geom_hline(yintercept = 0, colour = 'white', size = 2) +\n",
    "    geom_smooth(se = FALSE) +\n",
    "    facet_wrap(~continent)"
   ]
  },
  {
   "cell_type": "code",
   "execution_count": null,
   "metadata": {
    "collapsed": true
   },
   "outputs": [],
   "source": [
    "summary <- models %>%\n",
    "  transmute(\n",
    "    continent,\n",
    "    country,\n",
    "    slope = model %>% map(coef) %>% map_dbl(2),\n",
    "    rsq = glance %>% map_dbl(\"r.squared\")\n",
    "  )\n",
    "\n",
    "summary %>%\n",
    "  ggplot(aes(rsq, slope)) +\n",
    "  geom_point(aes(colour = continent)) +\n",
    "  xlab(quote(R ^ 2)) +\n",
    "  ylab(\"Estimated yearly increase in life expectancy\") +\n",
    "  theme(legend.position = \"top\", aspect.ratio = 1)"
   ]
  },
  {
   "cell_type": "code",
   "execution_count": null,
   "metadata": {
    "collapsed": true
   },
   "outputs": [],
   "source": []
  }
 ],
 "metadata": {
  "kernelspec": {
   "display_name": "R",
   "language": "R",
   "name": "ir"
  },
  "language_info": {
   "codemirror_mode": "r",
   "file_extension": ".r",
   "mimetype": "text/x-r-source",
   "name": "R",
   "pygments_lexer": "r",
   "version": "3.4.3"
  }
 },
 "nbformat": 4,
 "nbformat_minor": 2
}
