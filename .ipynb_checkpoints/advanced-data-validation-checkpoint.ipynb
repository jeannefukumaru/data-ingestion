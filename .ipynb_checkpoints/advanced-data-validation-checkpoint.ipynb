{
 "cells": [
  {
   "cell_type": "markdown",
   "metadata": {},
   "source": [
    "code comes from:  \n",
    "https://github.com/juliensimon/dlnotebooks/blob/master/mxnet/05-Fashion%20MNIST.ipynb"
   ]
  },
  {
   "cell_type": "code",
   "execution_count": 1,
   "metadata": {},
   "outputs": [
    {
     "name": "stderr",
     "output_type": "stream",
     "text": [
      "/Users/jeanne/anaconda3/lib/python3.6/site-packages/h5py/__init__.py:34: FutureWarning: Conversion of the second argument of issubdtype from `float` to `np.floating` is deprecated. In future, it will be treated as `np.float64 == np.dtype(float).type`.\n",
      "  from ._conv import register_converters as _register_converters\n",
      "/Users/jeanne/anaconda3/lib/python3.6/site-packages/urllib3/contrib/pyopenssl.py:46: DeprecationWarning: OpenSSL.rand is deprecated - you should use os.urandom instead\n",
      "  import OpenSSL.SSL\n"
     ]
    }
   ],
   "source": [
    "import mxnet as mx\n",
    "from mxnet import gluon, autograd\n",
    "import numpy as np\n",
    "import matplotlib.pyplot as plt\n",
    "import matplotlib.ticker as ticker\n",
    "import time"
   ]
  },
  {
   "cell_type": "code",
   "execution_count": 2,
   "metadata": {},
   "outputs": [
    {
     "name": "stderr",
     "output_type": "stream",
     "text": [
      "/Users/jeanne/anaconda3/lib/python3.6/site-packages/mxnet/gluon/data/vision.py:118: DeprecationWarning: The binary mode of fromstring is deprecated, as it behaves surprisingly on unicode inputs. Use frombuffer instead\n",
      "  label = np.fromstring(fin.read(), dtype=np.uint8).astype(np.int32)\n",
      "/Users/jeanne/anaconda3/lib/python3.6/site-packages/mxnet/gluon/data/vision.py:122: DeprecationWarning: The binary mode of fromstring is deprecated, as it behaves surprisingly on unicode inputs. Use frombuffer instead\n",
      "  data = np.fromstring(fin.read(), dtype=np.uint8)\n"
     ]
    }
   ],
   "source": [
    "def transform(data, label):\n",
    "    return mx.nd.transpose(data.astype(np.float32), (2,0,1))/255, label.astype(np.float32)\n",
    "\n",
    "train_data = gluon.data.DataLoader(\n",
    "    gluon.data.vision.FashionMNIST(train=True, transform=transform), batch_size=128, shuffle=True)\n",
    "\n",
    "validation_data = gluon.data.DataLoader(\n",
    "    gluon.data.vision.FashionMNIST(train=False, transform=transform), batch_size=128, shuffle=False)"
   ]
  },
  {
   "cell_type": "code",
   "execution_count": 3,
   "metadata": {},
   "outputs": [],
   "source": [
    "def buildCNN(cnnlayers, fclayers=([256,''],[64,'']), outputs=10, activation='relu', alpha=0.01):\n",
    "    net = gluon.nn.Sequential()\n",
    "    with net.name_scope():\n",
    "        for l in cnnlayers:                \n",
    "            if (l[0]<1.0):\n",
    "                net.add(gluon.nn.Dropout(l[0]))\n",
    "            else:\n",
    "                net.add(gluon.nn.Conv2D(channels=l[0], kernel_size=l[1], padding=l[2], activation=None))\n",
    "                if (l[5]=='BN'):\n",
    "                    net.add(gluon.nn.BatchNorm(axis=1, center=True, scale=True))\n",
    "                if (activation=='leakyrelu'):\n",
    "                    net.add(gluon.nn.LeakyReLU(alpha=alpha))\n",
    "                else:\n",
    "                    net.add(gluon.nn.Activation(activation=activation))\n",
    "                net.add(gluon.nn.MaxPool2D(pool_size=l[4], strides=l[4]))\n",
    "                \n",
    "        net.add(gluon.nn.Flatten())\n",
    "        \n",
    "        for l in fclayers:\n",
    "            if (l[0]<1.0):\n",
    "                net.add(gluon.nn.Dropout(l[0]))\n",
    "            else:\n",
    "                net.add(gluon.nn.Dense(l[0], activation=None))\n",
    "                if (l[1]=='BN'):\n",
    "                    net.add(gluon.nn.BatchNorm(axis=1, center=True, scale=True))\n",
    "                if (activation=='leakyrelu'):        \n",
    "                    net.add(gluon.nn.LeakyReLU(alpha=alpha))\n",
    "                else:\n",
    "                    net.add(gluon.nn.Activation(activation=activation))\n",
    "            \n",
    "        net.add(gluon.nn.Dense(outputs))\n",
    "    return net"
   ]
  },
  {
   "cell_type": "code",
   "execution_count": 4,
   "metadata": {},
   "outputs": [],
   "source": [
    "def init(net, optimizer='sgd', learning_rate=0.1, weight_decay=1e-6):\n",
    "    net.collect_params().initialize(mx.init.Xavier(magnitude=2.24))\n",
    "    trainer = gluon.Trainer(net.collect_params(), \n",
    "                            optimizer, \n",
    "                            {'learning_rate': learning_rate, 'wd': weight_decay})\n",
    "    return trainer"
   ]
  },
  {
   "cell_type": "code",
   "execution_count": 5,
   "metadata": {},
   "outputs": [],
   "source": [
    "def accuracy(data_iterator, net,ctx=mx.cpu()):\n",
    "    acc = mx.metric.Accuracy()\n",
    "    for (data, label) in data_iterator:\n",
    "        data = data.as_in_context(ctx)\n",
    "        label = label.as_in_context(ctx)\n",
    "        output = net(data)\n",
    "        predictions = mx.nd.argmax(output, axis=1)\n",
    "        acc.update(preds=predictions, labels=label)\n",
    "    return acc.get()[1]"
   ]
  },
  {
   "cell_type": "code",
   "execution_count": null,
   "metadata": {},
   "outputs": [],
   "source": [
    "def train(net, trainer, train_data, validation_data, epochs, ctx=mx.cpu()):\n",
    "    training_accuracies = []\n",
    "    validation_accuracies = []\n",
    "    softmax_cross_entropy = gluon.loss.SoftmaxCrossEntropyLoss()\n",
    "    for e in range(epochs):\n",
    "        tic = time.time()\n",
    "        for (data, label) in train_data:\n",
    "            data  = data.as_in_context(ctx)\n",
    "            label = label.as_in_context(ctx)\n",
    "            with autograd.record():\n",
    "                output = net(data)\n",
    "                loss = softmax_cross_entropy(output, label)\n",
    "                loss.backward()\n",
    "            trainer.step(data.shape[0])\n",
    "        toc = time.time()\n",
    "        train_accuracy = accuracy(train_data, net)\n",
    "        training_accuracies.append(train_accuracy)\n",
    "        validation_accuracy = accuracy(validation_data, net)\n",
    "        validation_accuracies.append(validation_accuracy)\n",
    "        print(\"Epoch#%d Time=%.2f Training=%.4f Validation=%.4f Diff=%.4f\" \n",
    "              % (e, toc-tic, train_accuracy, validation_accuracy, train_accuracy-validation_accuracy))\n",
    "    return training_accuracies, validation_accuracies"
   ]
  },
  {
   "cell_type": "code",
   "execution_count": null,
   "metadata": {},
   "outputs": [
    {
     "name": "stdout",
     "output_type": "stream",
     "text": [
      "Sequential(\n",
      "  (0): Conv2D(None -> 64, kernel_size=(3, 3), stride=(1, 1), padding=(1, 1))\n",
      "  (1): Activation(relu)\n",
      "  (2): MaxPool2D(size=(2, 2), stride=(2, 2), padding=(0, 0), ceil_mode=False)\n",
      "  (3): Conv2D(None -> 64, kernel_size=(3, 3), stride=(1, 1))\n",
      "  (4): Activation(relu)\n",
      "  (5): MaxPool2D(size=(2, 2), stride=(2, 2), padding=(0, 0), ceil_mode=False)\n",
      "  (6): Flatten\n",
      "  (7): Dense(None -> 256, linear)\n",
      "  (8): Activation(relu)\n",
      "  (9): Dense(None -> 64, linear)\n",
      "  (10): Activation(relu)\n",
      "  (11): Dense(None -> 10, linear)\n",
      ")\n",
      "Epoch#0 Time=32.13 Training=0.8027 Validation=0.8009 Diff=0.0018\n",
      "Epoch#1 Time=33.36 Training=0.8520 Validation=0.8511 Diff=0.0009\n",
      "Epoch#2 Time=31.75 Training=0.8632 Validation=0.8641 Diff=-0.0009\n",
      "Epoch#3 Time=31.60 Training=0.8859 Validation=0.8792 Diff=0.0067\n",
      "Epoch#4 Time=31.93 Training=0.8800 Validation=0.8764 Diff=0.0036\n",
      "Epoch#5 Time=32.26 Training=0.8790 Validation=0.8762 Diff=0.0028\n",
      "Epoch#6 Time=31.14 Training=0.9041 Validation=0.8956 Diff=0.0085\n",
      "Epoch#7 Time=33.31 Training=0.9011 Validation=0.8914 Diff=0.0097\n",
      "Epoch#8 Time=31.15 Training=0.9108 Validation=0.9027 Diff=0.0081\n",
      "Epoch#9 Time=33.58 Training=0.9153 Validation=0.9016 Diff=0.0137\n",
      "Epoch#10 Time=31.49 Training=0.9194 Validation=0.9029 Diff=0.0165\n",
      "Epoch#11 Time=32.33 Training=0.9172 Validation=0.9035 Diff=0.0137\n",
      "Epoch#12 Time=33.06 Training=0.9295 Validation=0.9123 Diff=0.0172\n",
      "Epoch#13 Time=31.01 Training=0.9316 Validation=0.9133 Diff=0.0183\n",
      "Epoch#14 Time=32.18 Training=0.9271 Validation=0.9033 Diff=0.0238\n",
      "Epoch#15 Time=33.81 Training=0.9370 Validation=0.9114 Diff=0.0256\n",
      "Epoch#16 Time=32.45 Training=0.9406 Validation=0.9135 Diff=0.0271\n",
      "Epoch#17 Time=29.17 Training=0.9359 Validation=0.9094 Diff=0.0265\n",
      "Epoch#18 Time=29.15 Training=0.9486 Validation=0.9159 Diff=0.0327\n",
      "Epoch#19 Time=29.62 Training=0.9535 Validation=0.9189 Diff=0.0346\n",
      "Epoch#20 Time=29.20 Training=0.9450 Validation=0.9118 Diff=0.0332\n",
      "Epoch#21 Time=29.64 Training=0.9575 Validation=0.9144 Diff=0.0431\n",
      "Epoch#22 Time=30.08 Training=0.9583 Validation=0.9155 Diff=0.0428\n"
     ]
    }
   ],
   "source": [
    "epochs = 50\n",
    "# 1x28x28 -CONV-> 64x28x28 -POOL-> 64x13x13 -CONV-> 64x10x10 -POOL-> 64x5x5 --> 1600 -FC-> 256 -FC-> 64 -FC-> 10\n",
    "net = buildCNN(([64,3,1,2,2,''],[64,3,0,2,2,'']))\n",
    "print(net)\n",
    "trainer = init(net)\n",
    "training_accuracies, validation_accuracies = train(net, trainer, train_data, validation_data, epochs)\n",
    "plot_accuracies(training_accuracies, validation_accuracies)"
   ]
  },
  {
   "cell_type": "code",
   "execution_count": null,
   "metadata": {},
   "outputs": [],
   "source": []
  }
 ],
 "metadata": {
  "kernelspec": {
   "display_name": "Python 3",
   "language": "python",
   "name": "python3"
  },
  "language_info": {
   "codemirror_mode": {
    "name": "ipython",
    "version": 3
   },
   "file_extension": ".py",
   "mimetype": "text/x-python",
   "name": "python",
   "nbconvert_exporter": "python",
   "pygments_lexer": "ipython3",
   "version": "3.6.3"
  }
 },
 "nbformat": 4,
 "nbformat_minor": 2
}
