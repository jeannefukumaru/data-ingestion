{
 "cells": [
  {
   "cell_type": "markdown",
   "metadata": {},
   "source": [
    "# using the tidyverse and the dslabs dataset"
   ]
  },
  {
   "cell_type": "code",
   "execution_count": 1,
   "metadata": {},
   "outputs": [
    {
     "name": "stderr",
     "output_type": "stream",
     "text": [
      "Updating HTML index of packages in '.Library'\n",
      "Making 'packages.html' ... done\n"
     ]
    }
   ],
   "source": [
    "install.packages('dslabs', dependencies=TRUE, repos='http://cran.rstudio.com/')"
   ]
  },
  {
   "cell_type": "code",
   "execution_count": 5,
   "metadata": {},
   "outputs": [
    {
     "name": "stderr",
     "output_type": "stream",
     "text": [
      "also installing the dependencies ‘lubridate’, ‘purrr’, ‘rlang’, ‘tidyr’, ‘feather’, ‘rmarkdown’\n",
      "\n",
      "Warning message in install.packages(\"tidyverse\", dependencies = TRUE, repos = \"http://cran.rstudio.com\"):\n",
      "“installation of package ‘lubridate’ had non-zero exit status”Warning message in install.packages(\"tidyverse\", dependencies = TRUE, repos = \"http://cran.rstudio.com\"):\n",
      "“installation of package ‘rlang’ had non-zero exit status”Warning message in install.packages(\"tidyverse\", dependencies = TRUE, repos = \"http://cran.rstudio.com\"):\n",
      "“installation of package ‘feather’ had non-zero exit status”Warning message in install.packages(\"tidyverse\", dependencies = TRUE, repos = \"http://cran.rstudio.com\"):\n",
      "“installation of package ‘purrr’ had non-zero exit status”Warning message in install.packages(\"tidyverse\", dependencies = TRUE, repos = \"http://cran.rstudio.com\"):\n",
      "“installation of package ‘tidyr’ had non-zero exit status”Warning message in install.packages(\"tidyverse\", dependencies = TRUE, repos = \"http://cran.rstudio.com\"):\n",
      "“installation of package ‘tidyverse’ had non-zero exit status”Updating HTML index of packages in '.Library'\n",
      "Making 'packages.html' ... done\n"
     ]
    }
   ],
   "source": [
    "install.packages('tidyverse', dependencies=TRUE, repos='http://cran.rstudio.com')"
   ]
  },
  {
   "cell_type": "code",
   "execution_count": 6,
   "metadata": {},
   "outputs": [
    {
     "name": "stderr",
     "output_type": "stream",
     "text": [
      "── Attaching packages ─────────────────────────────────────── tidyverse 1.2.0 ──\n",
      "✔ ggplot2 2.2.1     ✔ purrr   0.2.3\n",
      "✔ tibble  1.3.4     ✔ dplyr   0.7.4\n",
      "✔ tidyr   0.7.1     ✔ stringr 1.2.0\n",
      "✔ readr   1.1.1     ✔ forcats 0.2.0\n",
      "── Conflicts ────────────────────────────────────────── tidyverse_conflicts() ──\n",
      "✖ dplyr::filter() masks stats::filter()\n",
      "✖ dplyr::lag()    masks stats::lag()\n"
     ]
    }
   ],
   "source": [
    "library(dslabs)\n",
    "library(tidyverse)"
   ]
  },
  {
   "cell_type": "code",
   "execution_count": 7,
   "metadata": {},
   "outputs": [
    {
     "data": {
      "text/html": [
       "<h3>Data sets</h3>\n",
       "<table>\n",
       "<thead><tr><th scope=col>Package</th><th scope=col>Item</th><th scope=col>Title</th></tr></thead>\n",
       "<tbody>\n",
       "\t<tr><td>dslabs                                                      </td><td>admissions                                                  </td><td>Gender bias among graduate school admissions to UC Berkeley.</td></tr>\n",
       "\t<tr><td>dslabs                                                      </td><td>divorce_margarine                                           </td><td>Divorce rate and margarine consumption data                 </td></tr>\n",
       "\t<tr><td>dslabs                                                      </td><td>gapminder                                                   </td><td>Gapminder Data                                              </td></tr>\n",
       "\t<tr><td>dslabs                                                      </td><td>heights                                                     </td><td>Self-Reported Heights                                       </td></tr>\n",
       "\t<tr><td>dslabs                                                      </td><td>murders                                                     </td><td>US gun murders by state for 2010                            </td></tr>\n",
       "\t<tr><td>dslabs                                                      </td><td>na_example                                                  </td><td>Count data with some missing values                         </td></tr>\n",
       "\t<tr><td>dslabs                                                      </td><td>oecd (gapminder)                                            </td><td>Gapminder Data                                              </td></tr>\n",
       "\t<tr><td>dslabs                                                      </td><td>opec (gapminder)                                            </td><td>Gapminder Data                                              </td></tr>\n",
       "\t<tr><td>dslabs                                                      </td><td>outlier_example                                             </td><td>Adult male heights in feet with outliers                    </td></tr>\n",
       "\t<tr><td>dslabs                                                      </td><td>polls_us_election_2016                                      </td><td>Fivethirtyeight 2016 Poll Data                              </td></tr>\n",
       "\t<tr><td>dslabs                                                      </td><td>raw_data_research_funding_rates                             </td><td>Gender bias in research funding in the Netherlands          </td></tr>\n",
       "\t<tr><td>dslabs                                                      </td><td>reported_heights                                            </td><td>Self-reported Heights                                       </td></tr>\n",
       "\t<tr><td>dslabs                                                      </td><td>research_funding_rates                                      </td><td>Gender bias in research funding in the Netherlands          </td></tr>\n",
       "\t<tr><td>dslabs                                                      </td><td>results_us_election_2016 (polls_us_election_2016)           </td><td>Fivethirtyeight 2016 Poll Data                              </td></tr>\n",
       "\t<tr><td>dslabs                                                      </td><td>us_contagious_diseases                                      </td><td>Contagious disease data for US states                       </td></tr>\n",
       "</tbody>\n",
       "</table>\n",
       "\n"
      ],
      "text/plain": [
       "Data sets in package ‘dslabs’:\n",
       "\n",
       "admissions              Gender bias among graduate school admissions to\n",
       "                        UC Berkeley.\n",
       "divorce_margarine       Divorce rate and margarine consumption data\n",
       "gapminder               Gapminder Data\n",
       "heights                 Self-Reported Heights\n",
       "murders                 US gun murders by state for 2010\n",
       "na_example              Count data with some missing values\n",
       "oecd (gapminder)        Gapminder Data\n",
       "opec (gapminder)        Gapminder Data\n",
       "outlier_example         Adult male heights in feet with outliers\n",
       "polls_us_election_2016\n",
       "                        Fivethirtyeight 2016 Poll Data\n",
       "raw_data_research_funding_rates\n",
       "                        Gender bias in research funding in the\n",
       "                        Netherlands\n",
       "reported_heights        Self-reported Heights\n",
       "research_funding_rates\n",
       "                        Gender bias in research funding in the\n",
       "                        Netherlands\n",
       "results_us_election_2016 (polls_us_election_2016)\n",
       "                        Fivethirtyeight 2016 Poll Data\n",
       "us_contagious_diseases\n",
       "                        Contagious disease data for US states"
      ]
     },
     "metadata": {},
     "output_type": "display_data"
    }
   ],
   "source": [
    "data(package='dslabs')"
   ]
  },
  {
   "cell_type": "code",
   "execution_count": null,
   "metadata": {},
   "outputs": [],
   "source": []
  }
 ],
 "metadata": {
  "kernelspec": {
   "display_name": "R",
   "language": "R",
   "name": "ir"
  },
  "language_info": {
   "codemirror_mode": "r",
   "file_extension": ".r",
   "mimetype": "text/x-r-source",
   "name": "R",
   "pygments_lexer": "r",
   "version": "3.4.2"
  }
 },
 "nbformat": 4,
 "nbformat_minor": 2
}
