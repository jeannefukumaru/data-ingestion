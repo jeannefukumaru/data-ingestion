{
 "cells": [
  {
   "cell_type": "code",
   "execution_count": 1,
   "metadata": {},
   "outputs": [
    {
     "name": "stderr",
     "output_type": "stream",
     "text": [
      "── Attaching packages ─────────────────────────────────────── tidyverse 1.2.0 ──\n",
      "✔ ggplot2 2.2.1     ✔ purrr   0.2.3\n",
      "✔ tibble  1.3.4     ✔ dplyr   0.7.4\n",
      "✔ tidyr   0.7.1     ✔ stringr 1.2.0\n",
      "✔ readr   1.1.1     ✔ forcats 0.2.0\n",
      "── Conflicts ────────────────────────────────────────── tidyverse_conflicts() ──\n",
      "✖ dplyr::filter() masks stats::filter()\n",
      "✖ dplyr::lag()    masks stats::lag()\n"
     ]
    }
   ],
   "source": [
    "library(gapminder)\n",
    "library(tidyverse)"
   ]
  },
  {
   "cell_type": "code",
   "execution_count": 2,
   "metadata": {},
   "outputs": [
    {
     "name": "stdout",
     "output_type": "stream",
     "text": [
      "Classes ‘tbl_df’, ‘tbl’ and 'data.frame':\t1704 obs. of  6 variables:\n",
      " $ country  : Factor w/ 142 levels \"Afghanistan\",..: 1 1 1 1 1 1 1 1 1 1 ...\n",
      " $ continent: Factor w/ 5 levels \"Africa\",\"Americas\",..: 3 3 3 3 3 3 3 3 3 3 ...\n",
      " $ year     : int  1952 1957 1962 1967 1972 1977 1982 1987 1992 1997 ...\n",
      " $ lifeExp  : num  28.8 30.3 32 34 36.1 ...\n",
      " $ pop      : int  8425333 9240934 10267083 11537966 13079460 14880372 12881816 13867957 16317921 22227415 ...\n",
      " $ gdpPercap: num  779 821 853 836 740 ...\n"
     ]
    }
   ],
   "source": [
    "str(gapminder)"
   ]
  },
  {
   "cell_type": "code",
   "execution_count": 5,
   "metadata": {},
   "outputs": [
    {
     "data": {
      "text/html": [
       "<table>\n",
       "<thead><tr><th scope=col>country</th><th scope=col>continent</th><th scope=col>life_exp</th></tr></thead>\n",
       "<tbody>\n",
       "\t<tr><td>Afghanistan</td><td>Asia       </td><td>43.828     </td></tr>\n",
       "\t<tr><td>Albania    </td><td>Europe     </td><td>76.423     </td></tr>\n",
       "\t<tr><td>Algeria    </td><td>Africa     </td><td>72.301     </td></tr>\n",
       "\t<tr><td>Angola     </td><td>Africa     </td><td>42.731     </td></tr>\n",
       "\t<tr><td>Argentina  </td><td>Americas   </td><td>75.320     </td></tr>\n",
       "\t<tr><td>Australia  </td><td>Oceania    </td><td>81.235     </td></tr>\n",
       "</tbody>\n",
       "</table>\n"
      ],
      "text/latex": [
       "\\begin{tabular}{r|lll}\n",
       " country & continent & life\\_exp\\\\\n",
       "\\hline\n",
       "\t Afghanistan & Asia        & 43.828     \\\\\n",
       "\t Albania     & Europe      & 76.423     \\\\\n",
       "\t Algeria     & Africa      & 72.301     \\\\\n",
       "\t Angola      & Africa      & 42.731     \\\\\n",
       "\t Argentina   & Americas    & 75.320     \\\\\n",
       "\t Australia   & Oceania     & 81.235     \\\\\n",
       "\\end{tabular}\n"
      ],
      "text/markdown": [
       "\n",
       "country | continent | life_exp | \n",
       "|---|---|---|---|---|---|\n",
       "| Afghanistan | Asia        | 43.828      | \n",
       "| Albania     | Europe      | 76.423      | \n",
       "| Algeria     | Africa      | 72.301      | \n",
       "| Angola      | Africa      | 42.731      | \n",
       "| Argentina   | Americas    | 75.320      | \n",
       "| Australia   | Oceania     | 81.235      | \n",
       "\n",
       "\n"
      ],
      "text/plain": [
       "  country     continent life_exp\n",
       "1 Afghanistan Asia      43.828  \n",
       "2 Albania     Europe    76.423  \n",
       "3 Algeria     Africa    72.301  \n",
       "4 Angola      Africa    42.731  \n",
       "5 Argentina   Americas  75.320  \n",
       "6 Australia   Oceania   81.235  "
      ]
     },
     "metadata": {},
     "output_type": "display_data"
    }
   ],
   "source": [
    "gap_life_exp <- gapminder %>%\n",
    "  group_by(country, continent) %>% \n",
    "  summarise(life_exp = max(lifeExp)) %>% \n",
    "  ungroup()\n",
    "head(gap_life_exp)"
   ]
  },
  {
   "cell_type": "code",
   "execution_count": 6,
   "metadata": {},
   "outputs": [],
   "source": [
    "write_csv(gap_life_exp, \"gap_life_exp.csv\")"
   ]
  },
  {
   "cell_type": "code",
   "execution_count": 8,
   "metadata": {},
   "outputs": [],
   "source": [
    "write_csv(gapminder, \"gap.csv\")"
   ]
  },
  {
   "cell_type": "code",
   "execution_count": null,
   "metadata": {},
   "outputs": [],
   "source": []
  }
 ],
 "metadata": {
  "kernelspec": {
   "display_name": "R",
   "language": "R",
   "name": "ir"
  },
  "language_info": {
   "codemirror_mode": "r",
   "file_extension": ".r",
   "mimetype": "text/x-r-source",
   "name": "R",
   "pygments_lexer": "r",
   "version": "3.4.3"
  }
 },
 "nbformat": 4,
 "nbformat_minor": 2
}
